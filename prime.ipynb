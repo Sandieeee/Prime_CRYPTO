{
 "cells": [
  {
   "cell_type": "code",
   "execution_count": 6,
   "metadata": {},
   "outputs": [],
   "source": [
    "from pycoingecko import CoinGeckoAPI\n",
    "from openpyxl import Workbook,load_workbook\n",
    "import time"
   ]
  },
  {
   "cell_type": "code",
   "execution_count": 7,
   "metadata": {},
   "outputs": [],
   "source": [
    "cg = CoinGeckoAPI()"
   ]
  },
  {
   "cell_type": "code",
   "execution_count": 8,
   "metadata": {},
   "outputs": [
    {
     "name": "stdout",
     "output_type": "stream",
     "text": [
      "Top 50 Cryptocurrencies by Market Capitalization:\n",
      "1. Bitcoin (BTC) - Price: $97,110, Market Cap: $1,923,032,598,887\n",
      "2. Ethereum (ETH) - Price: $2,663.1, Market Cap: $320,570,432,450\n",
      "3. XRP (XRP) - Price: $2.47, Market Cap: $142,638,185,464\n",
      "4. Tether (USDT) - Price: $1.0, Market Cap: $141,883,935,489\n",
      "5. Solana (SOL) - Price: $200.16, Market Cap: $97,690,446,835\n",
      "6. BNB (BNB) - Price: $638.94, Market Cap: $93,096,565,352\n",
      "7. USDC (USDC) - Price: $0.999901, Market Cap: $56,367,025,423\n",
      "8. Dogecoin (DOGE) - Price: $0.259771, Market Cap: $38,365,157,971\n",
      "9. Cardano (ADA) - Price: $0.796069, Market Cap: $28,527,996,432\n",
      "10. Lido Staked Ether (STETH) - Price: $2,658.39, Market Cap: $24,973,949,358\n",
      "11. TRON (TRX) - Price: $0.245524, Market Cap: $21,111,413,433\n",
      "12. Wrapped Bitcoin (WBTC) - Price: $96,799, Market Cap: $12,500,208,812\n",
      "13. Chainlink (LINK) - Price: $19.14, Market Cap: $12,201,782,566\n",
      "14. Avalanche (AVAX) - Price: $26.18, Market Cap: $10,774,717,260\n",
      "15. Sui (SUI) - Price: $3.48, Market Cap: $10,746,620,859\n",
      "16. Wrapped stETH (WSTETH) - Price: $3,171.33, Market Cap: $10,644,916,700\n",
      "17. Stellar (XLM) - Price: $0.331704, Market Cap: $10,129,905,137\n",
      "18. Toncoin (TON) - Price: $3.8, Market Cap: $9,462,500,846\n",
      "19. Shiba Inu (SHIB) - Price: $1.604e-05, Market Cap: $9,446,904,025\n",
      "20. Litecoin (LTC) - Price: $125.24, Market Cap: $9,446,589,751\n",
      "21. LEO Token (LEO) - Price: $9.82, Market Cap: $9,080,731,475\n",
      "22. Hedera (HBAR) - Price: $0.237621, Market Cap: $9,080,111,845\n",
      "23. USDS (USDS) - Price: $0.999982, Market Cap: $8,427,991,325\n",
      "24. Hyperliquid (HYPE) - Price: $24.39, Market Cap: $8,135,313,615\n",
      "25. WETH (WETH) - Price: $2,660.74, Market Cap: $7,779,569,750\n",
      "26. Bitget Token (BGB) - Price: $6.39, Market Cap: $7,671,985,655\n",
      "27. Polkadot (DOT) - Price: $4.99, Market Cap: $7,581,286,096\n",
      "28. Bitcoin Cash (BCH) - Price: $337.47, Market Cap: $6,684,212,128\n",
      "29. Ethena USDe (USDE) - Price: $1.001, Market Cap: $6,048,384,742\n",
      "30. MANTRA (OM) - Price: $6.02, Market Cap: $5,824,654,375\n",
      "31. Uniswap (UNI) - Price: $9.66, Market Cap: $5,796,900,919\n",
      "32. Wrapped eETH (WEETH) - Price: $2,815.88, Market Cap: $5,354,868,875\n",
      "33. Ondo (ONDO) - Price: $1.4, Market Cap: $4,396,905,448\n",
      "34. Pepe (PEPE) - Price: $1.004e-05, Market Cap: $4,218,568,519\n",
      "35. Monero (XMR) - Price: $220.89, Market Cap: $4,070,674,205\n",
      "36. WhiteBIT Coin (WBT) - Price: $27.67, Market Cap: $3,984,897,471\n",
      "37. NEAR Protocol (NEAR) - Price: $3.32, Market Cap: $3,927,252,403\n",
      "38. Aave (AAVE) - Price: $251.14, Market Cap: $3,780,866,865\n",
      "39. Mantle (MNT) - Price: $1.043, Market Cap: $3,504,153,858\n",
      "40. Dai (DAI) - Price: $1.0, Market Cap: $3,486,179,123\n",
      "41. Internet Computer (ICP) - Price: $7.25, Market Cap: $3,481,678,469\n",
      "42. Bittensor (TAO) - Price: $422.8, Market Cap: $3,459,639,914\n",
      "43. Aptos (APT) - Price: $5.98, Market Cap: $3,434,996,808\n",
      "44. sUSDS (SUSDS) - Price: $1.037, Market Cap: $3,260,133,588\n",
      "45. Official Trump (TRUMP) - Price: $15.82, Market Cap: $3,162,344,391\n",
      "46. Ethereum Classic (ETC) - Price: $20.82, Market Cap: $3,132,361,159\n",
      "47. OKB (OKB) - Price: $51.2, Market Cap: $3,069,409,082\n",
      "48. VeChain (VET) - Price: $0.03431485, Market Cap: $2,775,388,583\n",
      "49. Gate (GT) - Price: $22.05, Market Cap: $2,775,240,588\n",
      "50. POL (ex-MATIC) (POL) - Price: $0.314875, Market Cap: $2,695,176,118\n"
     ]
    }
   ],
   "source": [
    "top_coins = cg.get_coins_markets(vs_currency='usd', order='market_cap_desc', per_page=50, page=1)\n",
    "print(\"Top 50 Cryptocurrencies by Market Capitalization:\")\n",
    "for rank, coin in enumerate(top_coins, start=1):\n",
    "    name = coin['name']\n",
    "    symbol = coin['symbol'].upper()\n",
    "    price = coin['current_price']\n",
    "    market_cap = coin['market_cap']\n",
    "    print(f\"{rank}. {name} ({symbol}) - Price: ${price:,}, Market Cap: ${market_cap:,}\")"
   ]
  },
  {
   "cell_type": "code",
   "execution_count": 10,
   "metadata": {},
   "outputs": [],
   "source": [
    "def update_excel():\n",
    "    \n",
    "    top_coins = cg.get_coins_markets(vs_currency='usd', order='market_cap_desc', per_page=50, page=1)\n",
    "\n",
    "   \n",
    "    try:\n",
    "        workbook = load_workbook('crypto.xlsx')\n",
    "        sheet = workbook.active\n",
    "    except FileNotFoundError:\n",
    "        workbook = Workbook()\n",
    "        sheet = workbook.active\n",
    "       \n",
    "        sheet['A1'] = 'Coin_Name'\n",
    "        sheet['B1'] = 'Symbol'\n",
    "        sheet['C1'] = 'Price(usd)'\n",
    "        sheet['D1'] = 'Market_Cap'\n",
    "\n",
    "    \n",
    "    existing_crypto = [row[0] for row in sheet.iter_rows(min_row=2, max_col=1, values_only=True) if row[0]]\n",
    "\n",
    "    next_row = sheet.max_row + 1\n",
    "\n",
    "    \n",
    "    for rank, coin in enumerate(top_coins, start=1):\n",
    "        name = coin['name']\n",
    "        symbol = coin['symbol'].upper()\n",
    "        price = coin['current_price']\n",
    "        market_cap = coin['market_cap']\n",
    "\n",
    "        print(f\"{rank}. {name} ({symbol}) - Price: ${price:,}, Market Cap: ${market_cap:,}\")\n",
    "\n",
    "        if name not in existing_crypto:\n",
    "            sheet[f'A{next_row}'] = name\n",
    "            sheet[f'B{next_row}'] = symbol\n",
    "            sheet[f'C{next_row}'] = price\n",
    "            sheet[f'D{next_row}'] = market_cap\n",
    "            next_row += 1\n",
    "\n",
    " \n",
    "    try:\n",
    "        workbook.save('crypto.xlsx')\n",
    "        print(\"Excel file updated successfully!\")\n",
    "    except Exception as e:\n",
    "        print(f\"Error saving the Excel file: {e}\")\n",
    "    finally:\n",
    "        workbook.close()  \n"
   ]
  },
  {
   "cell_type": "code",
   "execution_count": null,
   "metadata": {},
   "outputs": [],
   "source": [
    "while True:\n",
    "    update_excel()\n",
    "    time.sleep(10)"
   ]
  },
  {
   "cell_type": "code",
   "execution_count": null,
   "metadata": {},
   "outputs": [],
   "source": []
  }
 ],
 "metadata": {
  "kernelspec": {
   "display_name": "Python 3",
   "language": "python",
   "name": "python3"
  },
  "language_info": {
   "codemirror_mode": {
    "name": "ipython",
    "version": 3
   },
   "file_extension": ".py",
   "mimetype": "text/x-python",
   "name": "python",
   "nbconvert_exporter": "python",
   "pygments_lexer": "ipython3",
   "version": "3.12.4"
  }
 },
 "nbformat": 4,
 "nbformat_minor": 2
}
